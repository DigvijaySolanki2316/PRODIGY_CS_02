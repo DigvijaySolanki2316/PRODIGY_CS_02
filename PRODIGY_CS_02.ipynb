{
  "nbformat": 4,
  "nbformat_minor": 0,
  "metadata": {
    "colab": {
      "provenance": []
    },
    "kernelspec": {
      "name": "python3",
      "display_name": "Python 3"
    },
    "language_info": {
      "name": "python"
    }
  },
  "cells": [
    {
      "cell_type": "code",
      "source": [
        "from PIL import Image\n",
        "\n",
        "def encrypt_image(input_path, output_path, key):\n",
        "    img = Image.open(input_path)\n",
        "    pixels = img.load()\n",
        "\n",
        "    width, height = img.size\n",
        "\n",
        "    for i in range(width):\n",
        "        for j in range(height):\n",
        "            r, g, b = pixels[i, j]\n",
        "\n",
        "            # swapping red and blue channels\n",
        "            encrypted_pixel = (b, g, r)\n",
        "\n",
        "            pixels[i, j] = encrypted_pixel\n",
        "\n",
        "    img.save(output_path)\n",
        "    print(\"Image encrypted successfully!\")\n",
        "\n",
        "def decrypt_image(input_path, output_path, key):\n",
        "    img = Image.open(input_path)\n",
        "    pixels = img.load()\n",
        "\n",
        "    width, height = img.size\n",
        "\n",
        "    for i in range(width):\n",
        "        for j in range(height):\n",
        "            r, g, b = pixels[i, j]\n",
        "\n",
        "            # swapping red and blue channels back\n",
        "            decrypted_pixel = (b, g, r)\n",
        "\n",
        "            pixels[i, j] = decrypted_pixel\n",
        "\n",
        "    img.save(output_path)\n",
        "    print(\"Image decrypted successfully!\")\n",
        "\n",
        " # image path\n",
        "input_image = r\"cyber.jpg\"\n",
        "encrypted_image = r\"C:\\Users\\digvi\\Downloads\\decrypted_image.jpg\"\n",
        "decrypted_image = r\"C:\\Users\\digvi\\Downloads\\encrypted_image.jpg\"\n",
        "\n",
        "\n",
        "# Encrypt the image\n",
        "encrypt_image(input_image, encrypted_image, key=None)\n",
        "\n",
        "# Decrypt the image\n",
        "decrypt_image(encrypted_image, decrypted_image, key=None)"
      ],
      "metadata": {
        "colab": {
          "base_uri": "https://localhost:8080/"
        },
        "id": "oLrxQzMZrM0G",
        "outputId": "d63e99e5-2765-408b-88de-e04df3c60e52"
      },
      "execution_count": 6,
      "outputs": [
        {
          "output_type": "stream",
          "name": "stdout",
          "text": [
            "Image encrypted successfully!\n",
            "Image decrypted successfully!\n"
          ]
        }
      ]
    }
  ]
}